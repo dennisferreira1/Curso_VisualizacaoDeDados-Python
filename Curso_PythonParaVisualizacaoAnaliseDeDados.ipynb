{
  "nbformat": 4,
  "nbformat_minor": 0,
  "metadata": {
    "colab": {
      "name": "Curso_PythonParaVisualizacaoAnaliseDeDados.ipynb",
      "provenance": [],
      "collapsed_sections": [
        "CbRAl5BMrxjQ",
        "FcYYgBIgThkD",
        "KfV3avio6lmt"
      ],
      "include_colab_link": true
    },
    "kernelspec": {
      "display_name": "Python 3",
      "name": "python3"
    }
  },
  "cells": [
    {
      "cell_type": "markdown",
      "metadata": {
        "id": "view-in-github",
        "colab_type": "text"
      },
      "source": [
        "<a href=\"https://colab.research.google.com/github/dennisferreira1/Curso_VisualizacaoDeDados-Python/blob/main/Curso_PythonParaVisualizacaoAnaliseDeDados.ipynb\" target=\"_parent\"><img src=\"https://colab.research.google.com/assets/colab-badge.svg\" alt=\"Open In Colab\"/></a>"
      ]
    },
    {
      "cell_type": "markdown",
      "metadata": {
        "id": "CbRAl5BMrxjQ"
      },
      "source": [
        "---\n",
        "\n",
        "#**Visualização e Análise de Dados sobre Geração Distribuída de Energia no Brasil**\n",
        "\n",
        "---  \n",
        "\n",
        "### Visão Geral\n",
        "\n",
        ">A Geração Distribuída consiste num tipo de geração elétrica que se diferencia da realizada pela geração centralizada por ocorrer em locais em que não seria instalada uma usina geradora convencional, ou seja, mais próximo ao centro de carga, com a opção de interagir com a rede na forma de compra ou venda. Com a entrada em vigor da Resolução Normativa ANEEL n° 482/2012 (REN 482/2012), o consumidor pode gerar sua própria energia elétrica a partir de fontes renováveis ou cogeração qualificada e inclusive fornecer o excedente para a rede de distribuição de sua localidade. Com a entrada em vigor da REN 687/2015, atualização da REN 482/2012, o segmento de geração distribuída ganha um\n",
        "avanço positivo através das novas regras da resolução.  \n",
        "A geração de energia distribuída ajuda a alcançar o objetivo 7 da Agenda 2030 para o Desenvolvimento Sustentável da ONU, mais especificamente a meta 7.3 desse objetivo que é: Até 2030, aumentar substancialmente a participação de energias renováveis na matriz energética global\t\n",
        "\n",
        ">Esse trabalho tem como objetivo mostrar o avanço da geração distribuída de energia no Brasil e no Rio Grande do Norte. Para isso, foram usados os dados disponibilzados pela Agência Nacional de Energia Elétricia - ANEEL no [portal brasileiro de dados abertos](https://dados.gov.br/dataset/geracao-distribuida-relacao-empreendimentos).\n"
      ]
    },
    {
      "cell_type": "markdown",
      "metadata": {
        "id": "FcYYgBIgThkD"
      },
      "source": [
        "### Instalação e importação de bibliotecas utilizadas no trabalho\n",
        "\n"
      ]
    },
    {
      "cell_type": "code",
      "metadata": {
        "id": "ne92GxPqSDHd",
        "outputId": "9abd51ef-2a50-4fe4-bbd5-661745ce76aa",
        "colab": {
          "base_uri": "https://localhost:8080/",
          "height": 241
        }
      },
      "source": [
        "pip install missingno #instalando a biblioteca missingno"
      ],
      "execution_count": 43,
      "outputs": [
        {
          "output_type": "stream",
          "text": [
            "Requirement already satisfied: missingno in /usr/local/lib/python3.6/dist-packages (0.4.2)\n",
            "Requirement already satisfied: matplotlib in /usr/local/lib/python3.6/dist-packages (from missingno) (3.2.2)\n",
            "Requirement already satisfied: seaborn in /usr/local/lib/python3.6/dist-packages (from missingno) (0.11.0)\n",
            "Requirement already satisfied: numpy in /usr/local/lib/python3.6/dist-packages (from missingno) (1.18.5)\n",
            "Requirement already satisfied: scipy in /usr/local/lib/python3.6/dist-packages (from missingno) (1.4.1)\n",
            "Requirement already satisfied: cycler>=0.10 in /usr/local/lib/python3.6/dist-packages (from matplotlib->missingno) (0.10.0)\n",
            "Requirement already satisfied: pyparsing!=2.0.4,!=2.1.2,!=2.1.6,>=2.0.1 in /usr/local/lib/python3.6/dist-packages (from matplotlib->missingno) (2.4.7)\n",
            "Requirement already satisfied: python-dateutil>=2.1 in /usr/local/lib/python3.6/dist-packages (from matplotlib->missingno) (2.8.1)\n",
            "Requirement already satisfied: kiwisolver>=1.0.1 in /usr/local/lib/python3.6/dist-packages (from matplotlib->missingno) (1.2.0)\n",
            "Requirement already satisfied: pandas>=0.23 in /usr/local/lib/python3.6/dist-packages (from seaborn->missingno) (1.1.2)\n",
            "Requirement already satisfied: six in /usr/local/lib/python3.6/dist-packages (from cycler>=0.10->matplotlib->missingno) (1.15.0)\n",
            "Requirement already satisfied: pytz>=2017.2 in /usr/local/lib/python3.6/dist-packages (from pandas>=0.23->seaborn->missingno) (2018.9)\n"
          ],
          "name": "stdout"
        }
      ]
    },
    {
      "cell_type": "code",
      "metadata": {
        "id": "PbWHo76eTGDf"
      },
      "source": [
        "import re\n",
        "import pandas as pd\n",
        "import missingno as msno\n",
        "import matplotlib.pyplot as plt\n",
        "import seaborn as sns"
      ],
      "execution_count": 44,
      "outputs": []
    },
    {
      "cell_type": "markdown",
      "metadata": {
        "id": "fqZKiLSYV9Jc"
      },
      "source": [
        "### Importando dataset do google drive"
      ]
    },
    {
      "cell_type": "code",
      "metadata": {
        "id": "nJZD1luO3gDh",
        "outputId": "9bed7794-35f1-426f-d36f-3ede0943c8dc",
        "colab": {
          "base_uri": "https://localhost:8080/",
          "height": 898
        }
      },
      "source": [
        "# lendo o arquivo .json armazenado no google drive\n",
        "df_geracao_distribuida_brasil= pd.read_json('/content/drive/My Drive/Colab Notebooks/datasets/EmpGeracaoDistribuida.json', encoding= 'ISO-8859-1')\n",
        "# mostrando os dados do DataFrame\n",
        "df_geracao_distribuida_brasil"
      ],
      "execution_count": 45,
      "outputs": [
        {
          "output_type": "execute_result",
          "data": {
            "text/html": [
              "<div>\n",
              "<style scoped>\n",
              "    .dataframe tbody tr th:only-of-type {\n",
              "        vertical-align: middle;\n",
              "    }\n",
              "\n",
              "    .dataframe tbody tr th {\n",
              "        vertical-align: top;\n",
              "    }\n",
              "\n",
              "    .dataframe thead th {\n",
              "        text-align: right;\n",
              "    }\n",
              "</style>\n",
              "<table border=\"1\" class=\"dataframe\">\n",
              "  <thead>\n",
              "    <tr style=\"text-align: right;\">\n",
              "      <th></th>\n",
              "      <th>nomMunicipio</th>\n",
              "      <th>codEmpGeracaoDistribuida</th>\n",
              "      <th>nomPessoaTitular</th>\n",
              "      <th>ideEmpGeracaoDistribuida</th>\n",
              "      <th>mdaPotenciaInstaladaKW</th>\n",
              "      <th>ideDistribuidora</th>\n",
              "      <th>dthProcessamento</th>\n",
              "      <th>dscCombustivel</th>\n",
              "      <th>dscGrupoFornecimento</th>\n",
              "      <th>sigTipoUC</th>\n",
              "      <th>dscModalidadeConsumo</th>\n",
              "      <th>codNucleoGD</th>\n",
              "      <th>dscClasseFornecimento</th>\n",
              "      <th>sigUF</th>\n",
              "      <th>dscSituacaoUC</th>\n",
              "      <th>qtdUCResponsavel</th>\n",
              "      <th>datSituacao</th>\n",
              "      <th>datConexao</th>\n",
              "      <th>nomDistribuidora</th>\n",
              "    </tr>\n",
              "  </thead>\n",
              "  <tbody>\n",
              "    <tr>\n",
              "      <th>0</th>\n",
              "      <td>Porto Alegre</td>\n",
              "      <td>GD.RS.000.056.189</td>\n",
              "      <td>JOAO EDUARDO DA SILVA FONTANA</td>\n",
              "      <td>1</td>\n",
              "      <td>2.6</td>\n",
              "      <td>4273</td>\n",
              "      <td>24/10/2020 00:00:00</td>\n",
              "      <td>Radiação solar</td>\n",
              "      <td>B1</td>\n",
              "      <td>UFV</td>\n",
              "      <td>Geração na Própria UC</td>\n",
              "      <td>56189</td>\n",
              "      <td>Residencial</td>\n",
              "      <td>RS</td>\n",
              "      <td>Completa</td>\n",
              "      <td>1</td>\n",
              "      <td>07/02/2019</td>\n",
              "      <td>15/10/2018</td>\n",
              "      <td>COMPANHIA ESTADUAL DE DISTRIBUIÇÃO DE ENERGIA ...</td>\n",
              "    </tr>\n",
              "    <tr>\n",
              "      <th>1</th>\n",
              "      <td>Porto Alegre</td>\n",
              "      <td>GD.RS.000.192.966</td>\n",
              "      <td>SANDRA DE LOURDES TROMBETTA SILVA</td>\n",
              "      <td>2</td>\n",
              "      <td>3.0</td>\n",
              "      <td>4273</td>\n",
              "      <td>24/10/2020 00:00:00</td>\n",
              "      <td>Radiação solar</td>\n",
              "      <td>B1</td>\n",
              "      <td>UFV</td>\n",
              "      <td>Geração na Própria UC</td>\n",
              "      <td>192966</td>\n",
              "      <td>Residencial</td>\n",
              "      <td>RS</td>\n",
              "      <td>Completa</td>\n",
              "      <td>1</td>\n",
              "      <td>02/03/2020</td>\n",
              "      <td>03/02/2020</td>\n",
              "      <td>COMPANHIA ESTADUAL DE DISTRIBUIÇÃO DE ENERGIA ...</td>\n",
              "    </tr>\n",
              "    <tr>\n",
              "      <th>2</th>\n",
              "      <td>Ibaté</td>\n",
              "      <td>GD.SP.000.119.226</td>\n",
              "      <td>CATEC EQUIPS IND COM PREST SERV AGROIND</td>\n",
              "      <td>3</td>\n",
              "      <td>5.0</td>\n",
              "      <td>343</td>\n",
              "      <td>24/10/2020 00:00:00</td>\n",
              "      <td>Radiação solar</td>\n",
              "      <td>B3</td>\n",
              "      <td>UFV</td>\n",
              "      <td>Geração na Própria UC</td>\n",
              "      <td>119226</td>\n",
              "      <td>Industrial</td>\n",
              "      <td>SP</td>\n",
              "      <td>Completa</td>\n",
              "      <td>1</td>\n",
              "      <td>10/10/2019</td>\n",
              "      <td>25/09/2019</td>\n",
              "      <td>COMPANHIA PAULISTA DE FORÇA E LUZ</td>\n",
              "    </tr>\n",
              "    <tr>\n",
              "      <th>3</th>\n",
              "      <td>Campinas</td>\n",
              "      <td>GD.SP.000.004.658</td>\n",
              "      <td>MARIO GOMES PORTO</td>\n",
              "      <td>4</td>\n",
              "      <td>3.0</td>\n",
              "      <td>343</td>\n",
              "      <td>24/10/2020 00:00:00</td>\n",
              "      <td>Radiação solar</td>\n",
              "      <td>B1</td>\n",
              "      <td>UFV</td>\n",
              "      <td>Geração na Própria UC</td>\n",
              "      <td>4658</td>\n",
              "      <td>Residencial</td>\n",
              "      <td>SP</td>\n",
              "      <td>Completa</td>\n",
              "      <td>1</td>\n",
              "      <td>15/12/2016</td>\n",
              "      <td>01/09/2015</td>\n",
              "      <td>COMPANHIA PAULISTA DE FORÇA E LUZ</td>\n",
              "    </tr>\n",
              "    <tr>\n",
              "      <th>4</th>\n",
              "      <td>Campinas</td>\n",
              "      <td>GD.SP.000.002.022</td>\n",
              "      <td>FERNANDA ELISE GOMES DO NASCIMENTO</td>\n",
              "      <td>5</td>\n",
              "      <td>5.0</td>\n",
              "      <td>343</td>\n",
              "      <td>24/10/2020 00:00:00</td>\n",
              "      <td>Radiação solar</td>\n",
              "      <td>B1</td>\n",
              "      <td>UFV</td>\n",
              "      <td>Geração na Própria UC</td>\n",
              "      <td>2022</td>\n",
              "      <td>Residencial</td>\n",
              "      <td>SP</td>\n",
              "      <td>Completa</td>\n",
              "      <td>1</td>\n",
              "      <td>07/11/2016</td>\n",
              "      <td>19/10/2016</td>\n",
              "      <td>COMPANHIA PAULISTA DE FORÇA E LUZ</td>\n",
              "    </tr>\n",
              "    <tr>\n",
              "      <th>...</th>\n",
              "      <td>...</td>\n",
              "      <td>...</td>\n",
              "      <td>...</td>\n",
              "      <td>...</td>\n",
              "      <td>...</td>\n",
              "      <td>...</td>\n",
              "      <td>...</td>\n",
              "      <td>...</td>\n",
              "      <td>...</td>\n",
              "      <td>...</td>\n",
              "      <td>...</td>\n",
              "      <td>...</td>\n",
              "      <td>...</td>\n",
              "      <td>...</td>\n",
              "      <td>...</td>\n",
              "      <td>...</td>\n",
              "      <td>...</td>\n",
              "      <td>...</td>\n",
              "      <td>...</td>\n",
              "    </tr>\n",
              "    <tr>\n",
              "      <th>319486</th>\n",
              "      <td>Araguaína</td>\n",
              "      <td>GD.TO.000.172.479</td>\n",
              "      <td>IVALDO NUNES PEREIRA</td>\n",
              "      <td>319487</td>\n",
              "      <td>3.0</td>\n",
              "      <td>161</td>\n",
              "      <td>24/10/2020 00:00:00</td>\n",
              "      <td>Radiação solar</td>\n",
              "      <td>B1</td>\n",
              "      <td>UFV</td>\n",
              "      <td>Geração na Própria UC</td>\n",
              "      <td>172479</td>\n",
              "      <td>Residencial</td>\n",
              "      <td>TO</td>\n",
              "      <td>Completa</td>\n",
              "      <td>1</td>\n",
              "      <td>20/01/2020</td>\n",
              "      <td>18/12/2019</td>\n",
              "      <td>ENERGISA TOCANTINS DISTRIBUIDORA DE ENERGIA S.A.</td>\n",
              "    </tr>\n",
              "    <tr>\n",
              "      <th>319487</th>\n",
              "      <td>Sorriso</td>\n",
              "      <td>GD.MT.000.300.659</td>\n",
              "      <td>VANDERLEI ODAIR MAITO</td>\n",
              "      <td>319488</td>\n",
              "      <td>8.0</td>\n",
              "      <td>511</td>\n",
              "      <td>24/10/2020 00:00:00</td>\n",
              "      <td>Radiação solar</td>\n",
              "      <td>B1</td>\n",
              "      <td>UFV</td>\n",
              "      <td>Geração na Própria UC</td>\n",
              "      <td>300659</td>\n",
              "      <td>Residencial</td>\n",
              "      <td>MT</td>\n",
              "      <td>Completa</td>\n",
              "      <td>1</td>\n",
              "      <td>22/09/2020</td>\n",
              "      <td>06/06/2020</td>\n",
              "      <td>ENERGISA MATO GROSSO - DISTRIBUIDORA DE ENERGI...</td>\n",
              "    </tr>\n",
              "    <tr>\n",
              "      <th>319488</th>\n",
              "      <td>Lucas do Rio Verde</td>\n",
              "      <td>GD.MT.000.287.664</td>\n",
              "      <td>CLAUDIO GONCALVES</td>\n",
              "      <td>319489</td>\n",
              "      <td>3.4</td>\n",
              "      <td>511</td>\n",
              "      <td>24/10/2020 00:00:00</td>\n",
              "      <td>Radiação solar</td>\n",
              "      <td>B1</td>\n",
              "      <td>UFV</td>\n",
              "      <td>Geração na Própria UC</td>\n",
              "      <td>287664</td>\n",
              "      <td>Residencial</td>\n",
              "      <td>MT</td>\n",
              "      <td>Completa</td>\n",
              "      <td>1</td>\n",
              "      <td>02/09/2020</td>\n",
              "      <td>02/07/2020</td>\n",
              "      <td>ENERGISA MATO GROSSO - DISTRIBUIDORA DE ENERGI...</td>\n",
              "    </tr>\n",
              "    <tr>\n",
              "      <th>319489</th>\n",
              "      <td>Sinop</td>\n",
              "      <td>GD.MT.000.296.245</td>\n",
              "      <td>RODOLFO ISSA FILHO</td>\n",
              "      <td>319490</td>\n",
              "      <td>11.2</td>\n",
              "      <td>511</td>\n",
              "      <td>24/10/2020 00:00:00</td>\n",
              "      <td>Radiação solar</td>\n",
              "      <td>B3</td>\n",
              "      <td>UFV</td>\n",
              "      <td>Geração na Própria UC</td>\n",
              "      <td>296245</td>\n",
              "      <td>Industrial</td>\n",
              "      <td>MT</td>\n",
              "      <td>Completa</td>\n",
              "      <td>1</td>\n",
              "      <td>22/09/2020</td>\n",
              "      <td>17/08/2020</td>\n",
              "      <td>ENERGISA MATO GROSSO - DISTRIBUIDORA DE ENERGI...</td>\n",
              "    </tr>\n",
              "    <tr>\n",
              "      <th>319490</th>\n",
              "      <td>Santa Teresinha</td>\n",
              "      <td>GD.BA.000.309.853</td>\n",
              "      <td>CID MENDES DE R FILHO</td>\n",
              "      <td>319491</td>\n",
              "      <td>52.8</td>\n",
              "      <td>211</td>\n",
              "      <td>24/10/2020 00:00:00</td>\n",
              "      <td>Radiação solar</td>\n",
              "      <td>B3</td>\n",
              "      <td>UFV</td>\n",
              "      <td>Geração na Própria UC</td>\n",
              "      <td>309853</td>\n",
              "      <td>Industrial</td>\n",
              "      <td>BA</td>\n",
              "      <td>Completa</td>\n",
              "      <td>1</td>\n",
              "      <td>06/10/2020</td>\n",
              "      <td>25/09/2020</td>\n",
              "      <td>EQUATORIAL PIAUÍ DISTRIBUIDORA DE ENERGIA S.A</td>\n",
              "    </tr>\n",
              "  </tbody>\n",
              "</table>\n",
              "<p>319491 rows × 19 columns</p>\n",
              "</div>"
            ],
            "text/plain": [
              "              nomMunicipio  ...                                   nomDistribuidora\n",
              "0             Porto Alegre  ...  COMPANHIA ESTADUAL DE DISTRIBUIÇÃO DE ENERGIA ...\n",
              "1             Porto Alegre  ...  COMPANHIA ESTADUAL DE DISTRIBUIÇÃO DE ENERGIA ...\n",
              "2                    Ibaté  ...                  COMPANHIA PAULISTA DE FORÇA E LUZ\n",
              "3                 Campinas  ...                  COMPANHIA PAULISTA DE FORÇA E LUZ\n",
              "4                 Campinas  ...                  COMPANHIA PAULISTA DE FORÇA E LUZ\n",
              "...                    ...  ...                                                ...\n",
              "319486           Araguaína  ...   ENERGISA TOCANTINS DISTRIBUIDORA DE ENERGIA S.A.\n",
              "319487             Sorriso  ...  ENERGISA MATO GROSSO - DISTRIBUIDORA DE ENERGI...\n",
              "319488  Lucas do Rio Verde  ...  ENERGISA MATO GROSSO - DISTRIBUIDORA DE ENERGI...\n",
              "319489               Sinop  ...  ENERGISA MATO GROSSO - DISTRIBUIDORA DE ENERGI...\n",
              "319490     Santa Teresinha  ...      EQUATORIAL PIAUÍ DISTRIBUIDORA DE ENERGIA S.A\n",
              "\n",
              "[319491 rows x 19 columns]"
            ]
          },
          "metadata": {
            "tags": []
          },
          "execution_count": 45
        }
      ]
    },
    {
      "cell_type": "code",
      "metadata": {
        "id": "BfHiFEMRPSRW",
        "outputId": "04f60545-4d34-4774-cb53-96cd4fe818a3",
        "colab": {
          "base_uri": "https://localhost:8080/",
          "height": 136
        }
      },
      "source": [
        "df_geracao_distribuida_brasil.columns"
      ],
      "execution_count": 46,
      "outputs": [
        {
          "output_type": "execute_result",
          "data": {
            "text/plain": [
              "Index(['nomMunicipio', 'codEmpGeracaoDistribuida', 'nomPessoaTitular',\n",
              "       'ideEmpGeracaoDistribuida', 'mdaPotenciaInstaladaKW',\n",
              "       'ideDistribuidora', 'dthProcessamento', 'dscCombustivel',\n",
              "       'dscGrupoFornecimento', 'sigTipoUC', 'dscModalidadeConsumo',\n",
              "       'codNucleoGD', 'dscClasseFornecimento', 'sigUF', 'dscSituacaoUC',\n",
              "       'qtdUCResponsavel', 'datSituacao', 'datConexao', 'nomDistribuidora'],\n",
              "      dtype='object')"
            ]
          },
          "metadata": {
            "tags": []
          },
          "execution_count": 46
        }
      ]
    },
    {
      "cell_type": "code",
      "metadata": {
        "id": "cMLxbmCrPV_4",
        "outputId": "cf53c0f3-d7c8-4ba7-bba2-963e5800bb8d",
        "colab": {
          "base_uri": "https://localhost:8080/",
          "height": 898
        }
      },
      "source": [
        "# excluindo as colunas que não são importantes para a análise\n",
        "df_geracao_distribuida_brasil=df_geracao_distribuida_brasil.drop(columns= ['codEmpGeracaoDistribuida', 'codNucleoGD', 'nomPessoaTitular', 'datSituacao', 'dscCombustivel', 'qtdUCResponsavel', 'dscSituacaoUC', 'dthProcessamento'])\n",
        "df_geracao_distribuida_brasil"
      ],
      "execution_count": 47,
      "outputs": [
        {
          "output_type": "execute_result",
          "data": {
            "text/html": [
              "<div>\n",
              "<style scoped>\n",
              "    .dataframe tbody tr th:only-of-type {\n",
              "        vertical-align: middle;\n",
              "    }\n",
              "\n",
              "    .dataframe tbody tr th {\n",
              "        vertical-align: top;\n",
              "    }\n",
              "\n",
              "    .dataframe thead th {\n",
              "        text-align: right;\n",
              "    }\n",
              "</style>\n",
              "<table border=\"1\" class=\"dataframe\">\n",
              "  <thead>\n",
              "    <tr style=\"text-align: right;\">\n",
              "      <th></th>\n",
              "      <th>nomMunicipio</th>\n",
              "      <th>ideEmpGeracaoDistribuida</th>\n",
              "      <th>mdaPotenciaInstaladaKW</th>\n",
              "      <th>ideDistribuidora</th>\n",
              "      <th>dscGrupoFornecimento</th>\n",
              "      <th>sigTipoUC</th>\n",
              "      <th>dscModalidadeConsumo</th>\n",
              "      <th>dscClasseFornecimento</th>\n",
              "      <th>sigUF</th>\n",
              "      <th>datConexao</th>\n",
              "      <th>nomDistribuidora</th>\n",
              "    </tr>\n",
              "  </thead>\n",
              "  <tbody>\n",
              "    <tr>\n",
              "      <th>0</th>\n",
              "      <td>Porto Alegre</td>\n",
              "      <td>1</td>\n",
              "      <td>2.6</td>\n",
              "      <td>4273</td>\n",
              "      <td>B1</td>\n",
              "      <td>UFV</td>\n",
              "      <td>Geração na Própria UC</td>\n",
              "      <td>Residencial</td>\n",
              "      <td>RS</td>\n",
              "      <td>15/10/2018</td>\n",
              "      <td>COMPANHIA ESTADUAL DE DISTRIBUIÇÃO DE ENERGIA ...</td>\n",
              "    </tr>\n",
              "    <tr>\n",
              "      <th>1</th>\n",
              "      <td>Porto Alegre</td>\n",
              "      <td>2</td>\n",
              "      <td>3.0</td>\n",
              "      <td>4273</td>\n",
              "      <td>B1</td>\n",
              "      <td>UFV</td>\n",
              "      <td>Geração na Própria UC</td>\n",
              "      <td>Residencial</td>\n",
              "      <td>RS</td>\n",
              "      <td>03/02/2020</td>\n",
              "      <td>COMPANHIA ESTADUAL DE DISTRIBUIÇÃO DE ENERGIA ...</td>\n",
              "    </tr>\n",
              "    <tr>\n",
              "      <th>2</th>\n",
              "      <td>Ibaté</td>\n",
              "      <td>3</td>\n",
              "      <td>5.0</td>\n",
              "      <td>343</td>\n",
              "      <td>B3</td>\n",
              "      <td>UFV</td>\n",
              "      <td>Geração na Própria UC</td>\n",
              "      <td>Industrial</td>\n",
              "      <td>SP</td>\n",
              "      <td>25/09/2019</td>\n",
              "      <td>COMPANHIA PAULISTA DE FORÇA E LUZ</td>\n",
              "    </tr>\n",
              "    <tr>\n",
              "      <th>3</th>\n",
              "      <td>Campinas</td>\n",
              "      <td>4</td>\n",
              "      <td>3.0</td>\n",
              "      <td>343</td>\n",
              "      <td>B1</td>\n",
              "      <td>UFV</td>\n",
              "      <td>Geração na Própria UC</td>\n",
              "      <td>Residencial</td>\n",
              "      <td>SP</td>\n",
              "      <td>01/09/2015</td>\n",
              "      <td>COMPANHIA PAULISTA DE FORÇA E LUZ</td>\n",
              "    </tr>\n",
              "    <tr>\n",
              "      <th>4</th>\n",
              "      <td>Campinas</td>\n",
              "      <td>5</td>\n",
              "      <td>5.0</td>\n",
              "      <td>343</td>\n",
              "      <td>B1</td>\n",
              "      <td>UFV</td>\n",
              "      <td>Geração na Própria UC</td>\n",
              "      <td>Residencial</td>\n",
              "      <td>SP</td>\n",
              "      <td>19/10/2016</td>\n",
              "      <td>COMPANHIA PAULISTA DE FORÇA E LUZ</td>\n",
              "    </tr>\n",
              "    <tr>\n",
              "      <th>...</th>\n",
              "      <td>...</td>\n",
              "      <td>...</td>\n",
              "      <td>...</td>\n",
              "      <td>...</td>\n",
              "      <td>...</td>\n",
              "      <td>...</td>\n",
              "      <td>...</td>\n",
              "      <td>...</td>\n",
              "      <td>...</td>\n",
              "      <td>...</td>\n",
              "      <td>...</td>\n",
              "    </tr>\n",
              "    <tr>\n",
              "      <th>319486</th>\n",
              "      <td>Araguaína</td>\n",
              "      <td>319487</td>\n",
              "      <td>3.0</td>\n",
              "      <td>161</td>\n",
              "      <td>B1</td>\n",
              "      <td>UFV</td>\n",
              "      <td>Geração na Própria UC</td>\n",
              "      <td>Residencial</td>\n",
              "      <td>TO</td>\n",
              "      <td>18/12/2019</td>\n",
              "      <td>ENERGISA TOCANTINS DISTRIBUIDORA DE ENERGIA S.A.</td>\n",
              "    </tr>\n",
              "    <tr>\n",
              "      <th>319487</th>\n",
              "      <td>Sorriso</td>\n",
              "      <td>319488</td>\n",
              "      <td>8.0</td>\n",
              "      <td>511</td>\n",
              "      <td>B1</td>\n",
              "      <td>UFV</td>\n",
              "      <td>Geração na Própria UC</td>\n",
              "      <td>Residencial</td>\n",
              "      <td>MT</td>\n",
              "      <td>06/06/2020</td>\n",
              "      <td>ENERGISA MATO GROSSO - DISTRIBUIDORA DE ENERGI...</td>\n",
              "    </tr>\n",
              "    <tr>\n",
              "      <th>319488</th>\n",
              "      <td>Lucas do Rio Verde</td>\n",
              "      <td>319489</td>\n",
              "      <td>3.4</td>\n",
              "      <td>511</td>\n",
              "      <td>B1</td>\n",
              "      <td>UFV</td>\n",
              "      <td>Geração na Própria UC</td>\n",
              "      <td>Residencial</td>\n",
              "      <td>MT</td>\n",
              "      <td>02/07/2020</td>\n",
              "      <td>ENERGISA MATO GROSSO - DISTRIBUIDORA DE ENERGI...</td>\n",
              "    </tr>\n",
              "    <tr>\n",
              "      <th>319489</th>\n",
              "      <td>Sinop</td>\n",
              "      <td>319490</td>\n",
              "      <td>11.2</td>\n",
              "      <td>511</td>\n",
              "      <td>B3</td>\n",
              "      <td>UFV</td>\n",
              "      <td>Geração na Própria UC</td>\n",
              "      <td>Industrial</td>\n",
              "      <td>MT</td>\n",
              "      <td>17/08/2020</td>\n",
              "      <td>ENERGISA MATO GROSSO - DISTRIBUIDORA DE ENERGI...</td>\n",
              "    </tr>\n",
              "    <tr>\n",
              "      <th>319490</th>\n",
              "      <td>Santa Teresinha</td>\n",
              "      <td>319491</td>\n",
              "      <td>52.8</td>\n",
              "      <td>211</td>\n",
              "      <td>B3</td>\n",
              "      <td>UFV</td>\n",
              "      <td>Geração na Própria UC</td>\n",
              "      <td>Industrial</td>\n",
              "      <td>BA</td>\n",
              "      <td>25/09/2020</td>\n",
              "      <td>EQUATORIAL PIAUÍ DISTRIBUIDORA DE ENERGIA S.A</td>\n",
              "    </tr>\n",
              "  </tbody>\n",
              "</table>\n",
              "<p>319491 rows × 11 columns</p>\n",
              "</div>"
            ],
            "text/plain": [
              "              nomMunicipio  ...                                   nomDistribuidora\n",
              "0             Porto Alegre  ...  COMPANHIA ESTADUAL DE DISTRIBUIÇÃO DE ENERGIA ...\n",
              "1             Porto Alegre  ...  COMPANHIA ESTADUAL DE DISTRIBUIÇÃO DE ENERGIA ...\n",
              "2                    Ibaté  ...                  COMPANHIA PAULISTA DE FORÇA E LUZ\n",
              "3                 Campinas  ...                  COMPANHIA PAULISTA DE FORÇA E LUZ\n",
              "4                 Campinas  ...                  COMPANHIA PAULISTA DE FORÇA E LUZ\n",
              "...                    ...  ...                                                ...\n",
              "319486           Araguaína  ...   ENERGISA TOCANTINS DISTRIBUIDORA DE ENERGIA S.A.\n",
              "319487             Sorriso  ...  ENERGISA MATO GROSSO - DISTRIBUIDORA DE ENERGI...\n",
              "319488  Lucas do Rio Verde  ...  ENERGISA MATO GROSSO - DISTRIBUIDORA DE ENERGI...\n",
              "319489               Sinop  ...  ENERGISA MATO GROSSO - DISTRIBUIDORA DE ENERGI...\n",
              "319490     Santa Teresinha  ...      EQUATORIAL PIAUÍ DISTRIBUIDORA DE ENERGIA S.A\n",
              "\n",
              "[319491 rows x 11 columns]"
            ]
          },
          "metadata": {
            "tags": []
          },
          "execution_count": 47
        }
      ]
    },
    {
      "cell_type": "markdown",
      "metadata": {
        "id": "lgCy7QKYYG8X"
      },
      "source": [
        "### Limpeza dos dados\n",
        "\n",
        "> Usando a biblioteca *'missingno'* verificou-se por meio dos gráficos apresentados abaixo que o dataset fornecido pela ANEEL contém todas as linhas e colunas preenchidas."
      ]
    },
    {
      "cell_type": "code",
      "metadata": {
        "id": "D3E1wCzjYPXD",
        "outputId": "90c49ab8-6001-474a-8eb9-1593e33fb5e6",
        "colab": {
          "base_uri": "https://localhost:8080/",
          "height": 496
        }
      },
      "source": [
        "msno.matrix(df_geracao_distribuida_brasil) #leitura dos dados usando missingno na função matrix"
      ],
      "execution_count": 48,
      "outputs": [
        {
          "output_type": "execute_result",
          "data": {
            "text/plain": [
              "<matplotlib.axes._subplots.AxesSubplot at 0x7f3a1a7a4c88>"
            ]
          },
          "metadata": {
            "tags": []
          },
          "execution_count": 48
        },
        {
          "output_type": "display_data",
          "data": {
            "image/png": "[encoded data removed]",
            "text/plain": [
              "<Figure size 1800x720 with 2 Axes>"
            ]
          },
          "metadata": {
            "tags": [],
            "needs_background": "light"
          }
        }
      ]
    },
    {
      "cell_type": "code",
      "metadata": {
        "id": "aSLnBqA6Yw1p",
        "outputId": "aeed2264-21f3-44a4-9350-272388afa37d",
        "colab": {
          "base_uri": "https://localhost:8080/",
          "height": 545
        }
      },
      "source": [
        "msno.bar(df_geracao_distribuida_brasil) #leitura dos dados usando missingno na função bar"
      ],
      "execution_count": 49,
      "outputs": [
        {
          "output_type": "execute_result",
          "data": {
            "text/plain": [
              "<matplotlib.axes._subplots.AxesSubplot at 0x7f3a195c12b0>"
            ]
          },
          "metadata": {
            "tags": []
          },
          "execution_count": 49
        },
        {
          "output_type": "display_data",
          "data": {
            "image/png": "[encoded data removed]",
            "text/plain": [
              "<Figure size 1728x720 with 3 Axes>"
            ]
          },
          "metadata": {
            "tags": [],
            "needs_background": "light"
          }
        }
      ]
    },
    {
      "cell_type": "markdown",
      "metadata": {
        "id": "Bu5PYCGeaJYE"
      },
      "source": [
        "### Visualizando e analisando os dados do DataFrame\n"
      ]
    },
    {
      "cell_type": "markdown",
      "metadata": {
        "id": "j0nmT_ghvwdU"
      },
      "source": [
        "**Dados do Brasil**\n",
        "\n",
        "\n"
      ]
    },
    {
      "cell_type": "markdown",
      "metadata": {
        "id": "edkz0MJWuGPF"
      },
      "source": [
        "> Potência instalada no Brasil atualmente em gigawatts\n",
        "\n"
      ]
    },
    {
      "cell_type": "code",
      "metadata": {
        "id": "1nLdH6UdRnqB",
        "outputId": "9751a403-7a77-4d70-dc4f-6294e0f2c603",
        "colab": {
          "base_uri": "https://localhost:8080/",
          "height": 34
        }
      },
      "source": [
        "# potência instalada no Brasil\n",
        "potencia_instalada_brasil= df_geracao_distribuida_brasil['mdaPotenciaInstaladaKW'].sum()\n",
        "potencia_instalada_brasil/(10**6) # potência em gigawatts"
      ],
      "execution_count": 50,
      "outputs": [
        {
          "output_type": "execute_result",
          "data": {
            "text/plain": [
              "4.11345358"
            ]
          },
          "metadata": {
            "tags": []
          },
          "execution_count": 50
        }
      ]
    },
    {
      "cell_type": "markdown",
      "metadata": {
        "id": "y1iRqVsjuRDQ"
      },
      "source": [
        "> Quantidades de empreendimentos instalados no Brasil atualmente."
      ]
    },
    {
      "cell_type": "code",
      "metadata": {
        "id": "a2b8KhVYWV4_",
        "outputId": "fd070ad0-82cc-43cd-f79e-9a53743a7562",
        "colab": {
          "base_uri": "https://localhost:8080/",
          "height": 34
        }
      },
      "source": [
        "# quantidades de empreendimentos instalados no Brasil\n",
        "qtde_empreendimentos_brasil= df_geracao_distribuida_brasil['ideEmpGeracaoDistribuida'].count()\n",
        "qtde_empreendimentos_brasil"
      ],
      "execution_count": 51,
      "outputs": [
        {
          "output_type": "execute_result",
          "data": {
            "text/plain": [
              "319491"
            ]
          },
          "metadata": {
            "tags": []
          },
          "execution_count": 51
        }
      ]
    },
    {
      "cell_type": "markdown",
      "metadata": {
        "id": "0Hpx6lX5tvio"
      },
      "source": [
        "> Relação dos estados e suas potências (em kilowatts) instaladas atualmente."
      ]
    },
    {
      "cell_type": "code",
      "metadata": {
        "id": "-wfzl4fgqv3i",
        "outputId": "23fbed2b-68dd-4709-f069-03230d26eecc",
        "colab": {
          "base_uri": "https://localhost:8080/",
          "height": 917
        }
      },
      "source": [
        "# filtrando pelos estados e a potência instalada.\n",
        "potencia_instalada_por_estados= df_geracao_distribuida_brasil.filter(['sigUF','mdaPotenciaInstaladaKW'])\n",
        "\n",
        "# agrupando a soma total das potências instaladas por estados e ordenando de forma decrescente pela potência instalada\n",
        "potencia_instalada_por_estados.groupby('sigUF').sum().sort_values(by='mdaPotenciaInstaladaKW', ascending=False)"
      ],
      "execution_count": 52,
      "outputs": [
        {
          "output_type": "execute_result",
          "data": {
            "text/html": [
              "<div>\n",
              "<style scoped>\n",
              "    .dataframe tbody tr th:only-of-type {\n",
              "        vertical-align: middle;\n",
              "    }\n",
              "\n",
              "    .dataframe tbody tr th {\n",
              "        vertical-align: top;\n",
              "    }\n",
              "\n",
              "    .dataframe thead th {\n",
              "        text-align: right;\n",
              "    }\n",
              "</style>\n",
              "<table border=\"1\" class=\"dataframe\">\n",
              "  <thead>\n",
              "    <tr style=\"text-align: right;\">\n",
              "      <th></th>\n",
              "      <th>mdaPotenciaInstaladaKW</th>\n",
              "    </tr>\n",
              "    <tr>\n",
              "      <th>sigUF</th>\n",
              "      <th></th>\n",
              "    </tr>\n",
              "  </thead>\n",
              "  <tbody>\n",
              "    <tr>\n",
              "      <th>MG</th>\n",
              "      <td>829062.74</td>\n",
              "    </tr>\n",
              "    <tr>\n",
              "      <th>SP</th>\n",
              "      <td>497380.63</td>\n",
              "    </tr>\n",
              "    <tr>\n",
              "      <th>RS</th>\n",
              "      <td>489197.91</td>\n",
              "    </tr>\n",
              "    <tr>\n",
              "      <th>MT</th>\n",
              "      <td>323698.56</td>\n",
              "    </tr>\n",
              "    <tr>\n",
              "      <th>PR</th>\n",
              "      <td>288572.11</td>\n",
              "    </tr>\n",
              "    <tr>\n",
              "      <th>GO</th>\n",
              "      <td>226358.91</td>\n",
              "    </tr>\n",
              "    <tr>\n",
              "      <th>SC</th>\n",
              "      <td>207472.48</td>\n",
              "    </tr>\n",
              "    <tr>\n",
              "      <th>RJ</th>\n",
              "      <td>162588.43</td>\n",
              "    </tr>\n",
              "    <tr>\n",
              "      <th>CE</th>\n",
              "      <td>151725.04</td>\n",
              "    </tr>\n",
              "    <tr>\n",
              "      <th>BA</th>\n",
              "      <td>135065.97</td>\n",
              "    </tr>\n",
              "    <tr>\n",
              "      <th>MS</th>\n",
              "      <td>111887.15</td>\n",
              "    </tr>\n",
              "    <tr>\n",
              "      <th>PE</th>\n",
              "      <td>110658.10</td>\n",
              "    </tr>\n",
              "    <tr>\n",
              "      <th>PI</th>\n",
              "      <td>82109.81</td>\n",
              "    </tr>\n",
              "    <tr>\n",
              "      <th>RN</th>\n",
              "      <td>77903.76</td>\n",
              "    </tr>\n",
              "    <tr>\n",
              "      <th>ES</th>\n",
              "      <td>76545.11</td>\n",
              "    </tr>\n",
              "    <tr>\n",
              "      <th>PB</th>\n",
              "      <td>75295.47</td>\n",
              "    </tr>\n",
              "    <tr>\n",
              "      <th>PA</th>\n",
              "      <td>56602.53</td>\n",
              "    </tr>\n",
              "    <tr>\n",
              "      <th>RO</th>\n",
              "      <td>35206.13</td>\n",
              "    </tr>\n",
              "    <tr>\n",
              "      <th>MA</th>\n",
              "      <td>35070.62</td>\n",
              "    </tr>\n",
              "    <tr>\n",
              "      <th>DF</th>\n",
              "      <td>34067.42</td>\n",
              "    </tr>\n",
              "    <tr>\n",
              "      <th>AL</th>\n",
              "      <td>28681.06</td>\n",
              "    </tr>\n",
              "    <tr>\n",
              "      <th>TO</th>\n",
              "      <td>25883.60</td>\n",
              "    </tr>\n",
              "    <tr>\n",
              "      <th>SE</th>\n",
              "      <td>19482.20</td>\n",
              "    </tr>\n",
              "    <tr>\n",
              "      <th>AM</th>\n",
              "      <td>18604.66</td>\n",
              "    </tr>\n",
              "    <tr>\n",
              "      <th>AC</th>\n",
              "      <td>6391.65</td>\n",
              "    </tr>\n",
              "    <tr>\n",
              "      <th>AP</th>\n",
              "      <td>5153.71</td>\n",
              "    </tr>\n",
              "    <tr>\n",
              "      <th>RR</th>\n",
              "      <td>2787.82</td>\n",
              "    </tr>\n",
              "  </tbody>\n",
              "</table>\n",
              "</div>"
            ],
            "text/plain": [
              "       mdaPotenciaInstaladaKW\n",
              "sigUF                        \n",
              "MG                  829062.74\n",
              "SP                  497380.63\n",
              "RS                  489197.91\n",
              "MT                  323698.56\n",
              "PR                  288572.11\n",
              "GO                  226358.91\n",
              "SC                  207472.48\n",
              "RJ                  162588.43\n",
              "CE                  151725.04\n",
              "BA                  135065.97\n",
              "MS                  111887.15\n",
              "PE                  110658.10\n",
              "PI                   82109.81\n",
              "RN                   77903.76\n",
              "ES                   76545.11\n",
              "PB                   75295.47\n",
              "PA                   56602.53\n",
              "RO                   35206.13\n",
              "MA                   35070.62\n",
              "DF                   34067.42\n",
              "AL                   28681.06\n",
              "TO                   25883.60\n",
              "SE                   19482.20\n",
              "AM                   18604.66\n",
              "AC                    6391.65\n",
              "AP                    5153.71\n",
              "RR                    2787.82"
            ]
          },
          "metadata": {
            "tags": []
          },
          "execution_count": 52
        }
      ]
    },
    {
      "cell_type": "code",
      "metadata": {
        "id": "RSDiy6I7bbJo",
        "outputId": "3cf3a969-4366-41e4-8237-388893b96e19",
        "colab": {
          "base_uri": "https://localhost:8080/",
          "height": 585
        }
      },
      "source": [
        "# Gráfico\n",
        "soma_potencia_instalada_por_estados= potencia_instalada_por_estados.groupby('sigUF').sum().sort_values(by='mdaPotenciaInstaladaKW', ascending=True)\n",
        "estados= [estado for estado in soma_potencia_instalada_por_estados['mdaPotenciaInstaladaKW'].keys()]\n",
        "potencia_instalada= soma_potencia_instalada_por_estados['mdaPotenciaInstaladaKW']\n",
        "\n",
        "#criando uma figure, axes\n",
        "fig, ax = plt.subplots(figsize=(10,8))\n",
        "#criando o gráfico de barras \n",
        "sns.barplot(x=estados, y=potencia_instalada, ax=ax, palette='YlOrBr')\n",
        "#adicionando título\n",
        "ax.set_title(\"Potência x Estado\", fontdict={'fontsize':15})\n",
        "#mudando nome e tamanho do label x\n",
        "ax.set_xlabel('Estados', fontdict={'fontsize':14})\n",
        "#mudando nome e tamanho do label y\n",
        "ax.set_ylabel('Potência(kW)', fontdict={'fontsize':14})\n",
        "#mudando tamanho dos labels dos ticks\n",
        "ax.tick_params(labelsize=14)\n",
        "#otimizar espaço da figure\n",
        "fig.tight_layout();\n",
        "\n"
      ],
      "execution_count": 53,
      "outputs": [
        {
          "output_type": "display_data",
          "data": {
            "image/png": "[encoded data removed]",
            "text/plain": [
              "<Figure size 720x576 with 1 Axes>"
            ]
          },
          "metadata": {
            "tags": [],
            "needs_background": "light"
          }
        }
      ]
    },
    {
      "cell_type": "markdown",
      "metadata": {
        "id": "THvh7rhLBpTi"
      },
      "source": [
        "> Relação dos estados e suas potências instaladas por ano."
      ]
    },
    {
      "cell_type": "code",
      "metadata": {
        "id": "C8H2aOh-t-eZ",
        "outputId": "fd620bc7-ae3a-462a-c63f-14788c15d67d",
        "colab": {
          "base_uri": "https://localhost:8080/",
          "height": 1000
        }
      },
      "source": [
        "# filtrando pelos datas de conexão, estados e potência instalada.\n",
        "potencia_instalada_estados_por_ano= df_geracao_distribuida_brasil.filter(['datConexao', 'sigUF','mdaPotenciaInstaladaKW'])\n",
        "\n",
        "# preenchendo os valores da coluna datConexao com apenas o ano da data completa\n",
        "potencia_instalada_estados_por_ano['datConexao']= [int(re.findall('\\d{2}/\\d{2}/(\\d{4})', data)[0]) for data in potencia_instalada_estados_por_ano['datConexao']]\n",
        "\n",
        "# agrupando a soma total das potências instaladas por ano de instalação e estados e ordenando de forma decrescente pelo ano e pela potência instalada\n",
        "potencia_instalada_estados_por_ano.groupby(['datConexao', 'sigUF']).sum().sort_values(by=['datConexao', 'mdaPotenciaInstaladaKW'], ascending=False)[:50] # mostrando as 50 primeiras linhas\n"
      ],
      "execution_count": 54,
      "outputs": [
        {
          "output_type": "execute_result",
          "data": {
            "text/html": [
              "<div>\n",
              "<style scoped>\n",
              "    .dataframe tbody tr th:only-of-type {\n",
              "        vertical-align: middle;\n",
              "    }\n",
              "\n",
              "    .dataframe tbody tr th {\n",
              "        vertical-align: top;\n",
              "    }\n",
              "\n",
              "    .dataframe thead th {\n",
              "        text-align: right;\n",
              "    }\n",
              "</style>\n",
              "<table border=\"1\" class=\"dataframe\">\n",
              "  <thead>\n",
              "    <tr style=\"text-align: right;\">\n",
              "      <th></th>\n",
              "      <th></th>\n",
              "      <th>mdaPotenciaInstaladaKW</th>\n",
              "    </tr>\n",
              "    <tr>\n",
              "      <th>datConexao</th>\n",
              "      <th>sigUF</th>\n",
              "      <th></th>\n",
              "    </tr>\n",
              "  </thead>\n",
              "  <tbody>\n",
              "    <tr>\n",
              "      <th rowspan=\"27\" valign=\"top\">2020</th>\n",
              "      <th>MG</th>\n",
              "      <td>361343.46</td>\n",
              "    </tr>\n",
              "    <tr>\n",
              "      <th>SP</th>\n",
              "      <td>245305.74</td>\n",
              "    </tr>\n",
              "    <tr>\n",
              "      <th>RS</th>\n",
              "      <td>212572.44</td>\n",
              "    </tr>\n",
              "    <tr>\n",
              "      <th>MT</th>\n",
              "      <td>145809.90</td>\n",
              "    </tr>\n",
              "    <tr>\n",
              "      <th>GO</th>\n",
              "      <td>125951.63</td>\n",
              "    </tr>\n",
              "    <tr>\n",
              "      <th>CE</th>\n",
              "      <td>72451.35</td>\n",
              "    </tr>\n",
              "    <tr>\n",
              "      <th>BA</th>\n",
              "      <td>70207.01</td>\n",
              "    </tr>\n",
              "    <tr>\n",
              "      <th>SC</th>\n",
              "      <td>67204.71</td>\n",
              "    </tr>\n",
              "    <tr>\n",
              "      <th>RJ</th>\n",
              "      <td>67140.88</td>\n",
              "    </tr>\n",
              "    <tr>\n",
              "      <th>PE</th>\n",
              "      <td>57243.29</td>\n",
              "    </tr>\n",
              "    <tr>\n",
              "      <th>PR</th>\n",
              "      <td>45702.76</td>\n",
              "    </tr>\n",
              "    <tr>\n",
              "      <th>MS</th>\n",
              "      <td>44140.65</td>\n",
              "    </tr>\n",
              "    <tr>\n",
              "      <th>RN</th>\n",
              "      <td>39196.15</td>\n",
              "    </tr>\n",
              "    <tr>\n",
              "      <th>ES</th>\n",
              "      <td>37529.32</td>\n",
              "    </tr>\n",
              "    <tr>\n",
              "      <th>PI</th>\n",
              "      <td>37369.45</td>\n",
              "    </tr>\n",
              "    <tr>\n",
              "      <th>PB</th>\n",
              "      <td>36062.15</td>\n",
              "    </tr>\n",
              "    <tr>\n",
              "      <th>PA</th>\n",
              "      <td>35912.26</td>\n",
              "    </tr>\n",
              "    <tr>\n",
              "      <th>RO</th>\n",
              "      <td>18419.48</td>\n",
              "    </tr>\n",
              "    <tr>\n",
              "      <th>AL</th>\n",
              "      <td>15889.32</td>\n",
              "    </tr>\n",
              "    <tr>\n",
              "      <th>AM</th>\n",
              "      <td>11612.74</td>\n",
              "    </tr>\n",
              "    <tr>\n",
              "      <th>DF</th>\n",
              "      <td>10544.82</td>\n",
              "    </tr>\n",
              "    <tr>\n",
              "      <th>SE</th>\n",
              "      <td>6561.64</td>\n",
              "    </tr>\n",
              "    <tr>\n",
              "      <th>AC</th>\n",
              "      <td>3839.46</td>\n",
              "    </tr>\n",
              "    <tr>\n",
              "      <th>TO</th>\n",
              "      <td>3152.70</td>\n",
              "    </tr>\n",
              "    <tr>\n",
              "      <th>MA</th>\n",
              "      <td>3039.03</td>\n",
              "    </tr>\n",
              "    <tr>\n",
              "      <th>AP</th>\n",
              "      <td>2495.27</td>\n",
              "    </tr>\n",
              "    <tr>\n",
              "      <th>RR</th>\n",
              "      <td>1513.03</td>\n",
              "    </tr>\n",
              "    <tr>\n",
              "      <th rowspan=\"23\" valign=\"top\">2019</th>\n",
              "      <th>MG</th>\n",
              "      <td>286206.62</td>\n",
              "    </tr>\n",
              "    <tr>\n",
              "      <th>PR</th>\n",
              "      <td>199199.51</td>\n",
              "    </tr>\n",
              "    <tr>\n",
              "      <th>SP</th>\n",
              "      <td>181416.31</td>\n",
              "    </tr>\n",
              "    <tr>\n",
              "      <th>RS</th>\n",
              "      <td>180070.92</td>\n",
              "    </tr>\n",
              "    <tr>\n",
              "      <th>MT</th>\n",
              "      <td>131293.33</td>\n",
              "    </tr>\n",
              "    <tr>\n",
              "      <th>SC</th>\n",
              "      <td>84042.61</td>\n",
              "    </tr>\n",
              "    <tr>\n",
              "      <th>GO</th>\n",
              "      <td>73841.25</td>\n",
              "    </tr>\n",
              "    <tr>\n",
              "      <th>RJ</th>\n",
              "      <td>60251.41</td>\n",
              "    </tr>\n",
              "    <tr>\n",
              "      <th>MS</th>\n",
              "      <td>51294.40</td>\n",
              "    </tr>\n",
              "    <tr>\n",
              "      <th>BA</th>\n",
              "      <td>49620.56</td>\n",
              "    </tr>\n",
              "    <tr>\n",
              "      <th>CE</th>\n",
              "      <td>39682.68</td>\n",
              "    </tr>\n",
              "    <tr>\n",
              "      <th>PE</th>\n",
              "      <td>33960.58</td>\n",
              "    </tr>\n",
              "    <tr>\n",
              "      <th>PI</th>\n",
              "      <td>31476.42</td>\n",
              "    </tr>\n",
              "    <tr>\n",
              "      <th>ES</th>\n",
              "      <td>28893.61</td>\n",
              "    </tr>\n",
              "    <tr>\n",
              "      <th>PB</th>\n",
              "      <td>28270.15</td>\n",
              "    </tr>\n",
              "    <tr>\n",
              "      <th>RN</th>\n",
              "      <td>24935.78</td>\n",
              "    </tr>\n",
              "    <tr>\n",
              "      <th>MA</th>\n",
              "      <td>23501.58</td>\n",
              "    </tr>\n",
              "    <tr>\n",
              "      <th>TO</th>\n",
              "      <td>16902.13</td>\n",
              "    </tr>\n",
              "    <tr>\n",
              "      <th>PA</th>\n",
              "      <td>15894.02</td>\n",
              "    </tr>\n",
              "    <tr>\n",
              "      <th>DF</th>\n",
              "      <td>13191.38</td>\n",
              "    </tr>\n",
              "    <tr>\n",
              "      <th>RO</th>\n",
              "      <td>10723.15</td>\n",
              "    </tr>\n",
              "    <tr>\n",
              "      <th>AL</th>\n",
              "      <td>9209.77</td>\n",
              "    </tr>\n",
              "    <tr>\n",
              "      <th>SE</th>\n",
              "      <td>8784.77</td>\n",
              "    </tr>\n",
              "  </tbody>\n",
              "</table>\n",
              "</div>"
            ],
            "text/plain": [
              "                  mdaPotenciaInstaladaKW\n",
              "datConexao sigUF                        \n",
              "2020       MG                  361343.46\n",
              "           SP                  245305.74\n",
              "           RS                  212572.44\n",
              "           MT                  145809.90\n",
              "           GO                  125951.63\n",
              "           CE                   72451.35\n",
              "           BA                   70207.01\n",
              "           SC                   67204.71\n",
              "           RJ                   67140.88\n",
              "           PE                   57243.29\n",
              "           PR                   45702.76\n",
              "           MS                   44140.65\n",
              "           RN                   39196.15\n",
              "           ES                   37529.32\n",
              "           PI                   37369.45\n",
              "           PB                   36062.15\n",
              "           PA                   35912.26\n",
              "           RO                   18419.48\n",
              "           AL                   15889.32\n",
              "           AM                   11612.74\n",
              "           DF                   10544.82\n",
              "           SE                    6561.64\n",
              "           AC                    3839.46\n",
              "           TO                    3152.70\n",
              "           MA                    3039.03\n",
              "           AP                    2495.27\n",
              "           RR                    1513.03\n",
              "2019       MG                  286206.62\n",
              "           PR                  199199.51\n",
              "           SP                  181416.31\n",
              "           RS                  180070.92\n",
              "           MT                  131293.33\n",
              "           SC                   84042.61\n",
              "           GO                   73841.25\n",
              "           RJ                   60251.41\n",
              "           MS                   51294.40\n",
              "           BA                   49620.56\n",
              "           CE                   39682.68\n",
              "           PE                   33960.58\n",
              "           PI                   31476.42\n",
              "           ES                   28893.61\n",
              "           PB                   28270.15\n",
              "           RN                   24935.78\n",
              "           MA                   23501.58\n",
              "           TO                   16902.13\n",
              "           PA                   15894.02\n",
              "           DF                   13191.38\n",
              "           RO                   10723.15\n",
              "           AL                    9209.77\n",
              "           SE                    8784.77"
            ]
          },
          "metadata": {
            "tags": []
          },
          "execution_count": 54
        }
      ]
    },
    {
      "cell_type": "code",
      "metadata": {
        "id": "2rEB_Bk4AMtf",
        "outputId": "362a871e-ff29-4ea4-ca1c-c7a13ec85593",
        "colab": {
          "base_uri": "https://localhost:8080/",
          "height": 446
        }
      },
      "source": [
        "# gráfico\n",
        "potencia_instalada_estados_por_ano_MW= potencia_instalada_estados_por_ano\n",
        "potencia_instalada_estados_por_ano_MW['mdaPotenciaInstaladaKW']= [pot/1000 for pot in potencia_instalada_estados_por_ano_MW['mdaPotenciaInstaladaKW']]\n",
        "ax= potencia_instalada_estados_por_ano_MW.groupby(['datConexao', 'sigUF']).sum()\\\n",
        "                                  .sort_values(by=['datConexao', 'mdaPotenciaInstaladaKW'], ascending=False)\\\n",
        "                                  .unstack().plot(figsize=(20,8), kind='bar')\n",
        "ax.set_xlabel('Anos')\n",
        "ax.set_ylabel('Potência (MW)')\n",
        "ax.set_title('Potência x Anos x Estados')"
      ],
      "execution_count": 55,
      "outputs": [
        {
          "output_type": "execute_result",
          "data": {
            "text/plain": [
              "Text(0.5, 1.0, 'Potência x Anos x Estados')"
            ]
          },
          "metadata": {
            "tags": []
          },
          "execution_count": 55
        },
        {
          "output_type": "display_data",
          "data": {
            "image/png": "[encoded data removed]",
            "text/plain": [
              "<Figure size 1440x576 with 1 Axes>"
            ]
          },
          "metadata": {
            "tags": [],
            "needs_background": "light"
          }
        }
      ]
    },
    {
      "cell_type": "markdown",
      "metadata": {
        "id": "z65YcCih_ke4"
      },
      "source": [
        "> Relação das potências instaladas por ano no Brasil"
      ]
    },
    {
      "cell_type": "code",
      "metadata": {
        "id": "TINddDyJDZcI",
        "outputId": "385b66dd-7812-4fb6-8a88-e390d9e1ec20",
        "colab": {
          "base_uri": "https://localhost:8080/",
          "height": 483
        }
      },
      "source": [
        "# filtrando pelos datas de conexão e potência instalada.\n",
        "potencia_instalada_por_ano= df_geracao_distribuida_brasil.filter(['datConexao','mdaPotenciaInstaladaKW'])\n",
        "\n",
        "# preenchendo os valores da coluna datConexao com apenas o ano da data completa\n",
        "potencia_instalada_por_ano['datConexao']= [int(re.findall('\\d{2}/\\d{2}/(\\d{4})', data)[0]) for data in potencia_instalada_por_ano['datConexao']]\n",
        "\n",
        "# agrupando a soma total das potências instaladas por ano de instalação e ordenando de forma decrescente pelo ano e pela potência instalada\n",
        "potencia_instalada_por_ano.groupby('datConexao').sum()"
      ],
      "execution_count": 56,
      "outputs": [
        {
          "output_type": "execute_result",
          "data": {
            "text/html": [
              "<div>\n",
              "<style scoped>\n",
              "    .dataframe tbody tr th:only-of-type {\n",
              "        vertical-align: middle;\n",
              "    }\n",
              "\n",
              "    .dataframe tbody tr th {\n",
              "        vertical-align: top;\n",
              "    }\n",
              "\n",
              "    .dataframe thead th {\n",
              "        text-align: right;\n",
              "    }\n",
              "</style>\n",
              "<table border=\"1\" class=\"dataframe\">\n",
              "  <thead>\n",
              "    <tr style=\"text-align: right;\">\n",
              "      <th></th>\n",
              "      <th>mdaPotenciaInstaladaKW</th>\n",
              "    </tr>\n",
              "    <tr>\n",
              "      <th>datConexao</th>\n",
              "      <th></th>\n",
              "    </tr>\n",
              "  </thead>\n",
              "  <tbody>\n",
              "    <tr>\n",
              "      <th>2008</th>\n",
              "      <td>25.00</td>\n",
              "    </tr>\n",
              "    <tr>\n",
              "      <th>2009</th>\n",
              "      <td>4023.19</td>\n",
              "    </tr>\n",
              "    <tr>\n",
              "      <th>2010</th>\n",
              "      <td>40.02</td>\n",
              "    </tr>\n",
              "    <tr>\n",
              "      <th>2011</th>\n",
              "      <td>132.00</td>\n",
              "    </tr>\n",
              "    <tr>\n",
              "      <th>2012</th>\n",
              "      <td>469.86</td>\n",
              "    </tr>\n",
              "    <tr>\n",
              "      <th>2013</th>\n",
              "      <td>2465.16</td>\n",
              "    </tr>\n",
              "    <tr>\n",
              "      <th>2014</th>\n",
              "      <td>3522.22</td>\n",
              "    </tr>\n",
              "    <tr>\n",
              "      <th>2015</th>\n",
              "      <td>14744.48</td>\n",
              "    </tr>\n",
              "    <tr>\n",
              "      <th>2016</th>\n",
              "      <td>80239.05</td>\n",
              "    </tr>\n",
              "    <tr>\n",
              "      <th>2017</th>\n",
              "      <td>186451.62</td>\n",
              "    </tr>\n",
              "    <tr>\n",
              "      <th>2018</th>\n",
              "      <td>450503.09</td>\n",
              "    </tr>\n",
              "    <tr>\n",
              "      <th>2019</th>\n",
              "      <td>1592627.25</td>\n",
              "    </tr>\n",
              "    <tr>\n",
              "      <th>2020</th>\n",
              "      <td>1778210.64</td>\n",
              "    </tr>\n",
              "  </tbody>\n",
              "</table>\n",
              "</div>"
            ],
            "text/plain": [
              "            mdaPotenciaInstaladaKW\n",
              "datConexao                        \n",
              "2008                         25.00\n",
              "2009                       4023.19\n",
              "2010                         40.02\n",
              "2011                        132.00\n",
              "2012                        469.86\n",
              "2013                       2465.16\n",
              "2014                       3522.22\n",
              "2015                      14744.48\n",
              "2016                      80239.05\n",
              "2017                     186451.62\n",
              "2018                     450503.09\n",
              "2019                    1592627.25\n",
              "2020                    1778210.64"
            ]
          },
          "metadata": {
            "tags": []
          },
          "execution_count": 56
        }
      ]
    },
    {
      "cell_type": "code",
      "metadata": {
        "id": "dQl7cpZ4F-0q",
        "outputId": "16adec96-6f54-4740-a946-a06ab976ec04",
        "colab": {
          "base_uri": "https://localhost:8080/",
          "height": 441
        }
      },
      "source": [
        "# Gráficos\n",
        "\n",
        "soma_potencia_instalada_por_ano= potencia_instalada_por_ano.groupby('datConexao').sum()\n",
        "anos= [ano for ano in soma_potencia_instalada_por_ano['mdaPotenciaInstaladaKW'].keys()]\n",
        "potencia_instalada_ano= [pot/(10**6) for pot in soma_potencia_instalada_por_ano['mdaPotenciaInstaladaKW']] # potência instalada em GigaWatts\n",
        "\n",
        "#criando uma figure, axes\n",
        "fig1, ax1 = plt.subplots(figsize=(10,6))\n",
        "#criando o gráfico de barras \n",
        "sns.barplot(x=anos, y=potencia_instalada_ano, ax=ax1, palette='YlOrBr')\n",
        "#adicionando título\n",
        "ax1.set_title(\"Potência x Ano\", fontdict={'fontsize':15})\n",
        "#mudando nome e tamanho do label x\n",
        "ax1.set_xlabel('Anos', fontdict={'fontsize':14})\n",
        "#mudando nome e tamanho do label y\n",
        "ax1.set_ylabel('Potência(GW)', fontdict={'fontsize':14})\n",
        "#mudando tamanho dos labels dos ticks\n",
        "ax1.tick_params(labelsize=14)\n",
        "#otimizar espaço da figure\n",
        "fig1.tight_layout();"
      ],
      "execution_count": 57,
      "outputs": [
        {
          "output_type": "display_data",
          "data": {
            "image/png": "[encoded data removed]",
            "text/plain": [
              "<Figure size 720x432 with 1 Axes>"
            ]
          },
          "metadata": {
            "tags": [],
            "needs_background": "light"
          }
        }
      ]
    },
    {
      "cell_type": "markdown",
      "metadata": {
        "id": "RuE5dye_AGhD"
      },
      "source": [
        "**Dados do RN**"
      ]
    },
    {
      "cell_type": "markdown",
      "metadata": {
        "id": "uSrnHrcuCLfd"
      },
      "source": [
        "> Criando da DataFrame do RN."
      ]
    },
    {
      "cell_type": "code",
      "metadata": {
        "id": "KX7BM76waTIO",
        "outputId": "9e5f9978-fe01-42e3-c1be-16b941e786f7",
        "colab": {
          "base_uri": "https://localhost:8080/",
          "height": 1000
        }
      },
      "source": [
        "# selecionando pelo estado RN\n",
        "df_geracao_distribuida_RN= df_geracao_distribuida_brasil[df_geracao_distribuida_brasil['sigUF'] == 'RN']\n",
        "df_geracao_distribuida_RN.head(20) # mostrando as 20 primeiras linhas"
      ],
      "execution_count": 58,
      "outputs": [
        {
          "output_type": "execute_result",
          "data": {
            "text/html": [
              "<div>\n",
              "<style scoped>\n",
              "    .dataframe tbody tr th:only-of-type {\n",
              "        vertical-align: middle;\n",
              "    }\n",
              "\n",
              "    .dataframe tbody tr th {\n",
              "        vertical-align: top;\n",
              "    }\n",
              "\n",
              "    .dataframe thead th {\n",
              "        text-align: right;\n",
              "    }\n",
              "</style>\n",
              "<table border=\"1\" class=\"dataframe\">\n",
              "  <thead>\n",
              "    <tr style=\"text-align: right;\">\n",
              "      <th></th>\n",
              "      <th>nomMunicipio</th>\n",
              "      <th>ideEmpGeracaoDistribuida</th>\n",
              "      <th>mdaPotenciaInstaladaKW</th>\n",
              "      <th>ideDistribuidora</th>\n",
              "      <th>dscGrupoFornecimento</th>\n",
              "      <th>sigTipoUC</th>\n",
              "      <th>dscModalidadeConsumo</th>\n",
              "      <th>dscClasseFornecimento</th>\n",
              "      <th>sigUF</th>\n",
              "      <th>datConexao</th>\n",
              "      <th>nomDistribuidora</th>\n",
              "    </tr>\n",
              "  </thead>\n",
              "  <tbody>\n",
              "    <tr>\n",
              "      <th>865</th>\n",
              "      <td>Tibau do Sul</td>\n",
              "      <td>866</td>\n",
              "      <td>2.12</td>\n",
              "      <td>231</td>\n",
              "      <td>B3</td>\n",
              "      <td>UFV</td>\n",
              "      <td>Geração na Própria UC</td>\n",
              "      <td>Comercial</td>\n",
              "      <td>RN</td>\n",
              "      <td>19/08/2016</td>\n",
              "      <td>COMPANHIA ENERGÉTICA DO RIO GRANDE DO NORTE CO...</td>\n",
              "    </tr>\n",
              "    <tr>\n",
              "      <th>867</th>\n",
              "      <td>Natal</td>\n",
              "      <td>868</td>\n",
              "      <td>67.60</td>\n",
              "      <td>231</td>\n",
              "      <td>B3</td>\n",
              "      <td>UFV</td>\n",
              "      <td>Geração na Própria UC</td>\n",
              "      <td>Comercial</td>\n",
              "      <td>RN</td>\n",
              "      <td>18/12/2018</td>\n",
              "      <td>COMPANHIA ENERGÉTICA DO RIO GRANDE DO NORTE CO...</td>\n",
              "    </tr>\n",
              "    <tr>\n",
              "      <th>869</th>\n",
              "      <td>Mossoró</td>\n",
              "      <td>870</td>\n",
              "      <td>5.67</td>\n",
              "      <td>231</td>\n",
              "      <td>B1</td>\n",
              "      <td>UFV</td>\n",
              "      <td>Geração na Própria UC</td>\n",
              "      <td>Residencial</td>\n",
              "      <td>RN</td>\n",
              "      <td>31/08/2017</td>\n",
              "      <td>COMPANHIA ENERGÉTICA DO RIO GRANDE DO NORTE CO...</td>\n",
              "    </tr>\n",
              "    <tr>\n",
              "      <th>932</th>\n",
              "      <td>Natal</td>\n",
              "      <td>933</td>\n",
              "      <td>10.00</td>\n",
              "      <td>231</td>\n",
              "      <td>B3</td>\n",
              "      <td>UFV</td>\n",
              "      <td>Geração na Própria UC</td>\n",
              "      <td>Comercial</td>\n",
              "      <td>RN</td>\n",
              "      <td>19/11/2018</td>\n",
              "      <td>COMPANHIA ENERGÉTICA DO RIO GRANDE DO NORTE CO...</td>\n",
              "    </tr>\n",
              "    <tr>\n",
              "      <th>933</th>\n",
              "      <td>Natal</td>\n",
              "      <td>934</td>\n",
              "      <td>5.00</td>\n",
              "      <td>231</td>\n",
              "      <td>B1</td>\n",
              "      <td>UFV</td>\n",
              "      <td>Geração na Própria UC</td>\n",
              "      <td>Residencial</td>\n",
              "      <td>RN</td>\n",
              "      <td>10/09/2019</td>\n",
              "      <td>COMPANHIA ENERGÉTICA DO RIO GRANDE DO NORTE CO...</td>\n",
              "    </tr>\n",
              "    <tr>\n",
              "      <th>935</th>\n",
              "      <td>Parnamirim</td>\n",
              "      <td>936</td>\n",
              "      <td>5.00</td>\n",
              "      <td>231</td>\n",
              "      <td>B1</td>\n",
              "      <td>UFV</td>\n",
              "      <td>Geração na Própria UC</td>\n",
              "      <td>Residencial</td>\n",
              "      <td>RN</td>\n",
              "      <td>20/12/2018</td>\n",
              "      <td>COMPANHIA ENERGÉTICA DO RIO GRANDE DO NORTE CO...</td>\n",
              "    </tr>\n",
              "    <tr>\n",
              "      <th>940</th>\n",
              "      <td>Natal</td>\n",
              "      <td>941</td>\n",
              "      <td>20.00</td>\n",
              "      <td>231</td>\n",
              "      <td>B1</td>\n",
              "      <td>UFV</td>\n",
              "      <td>Geração na Própria UC</td>\n",
              "      <td>Comercial</td>\n",
              "      <td>RN</td>\n",
              "      <td>03/12/2018</td>\n",
              "      <td>COMPANHIA ENERGÉTICA DO RIO GRANDE DO NORTE CO...</td>\n",
              "    </tr>\n",
              "    <tr>\n",
              "      <th>943</th>\n",
              "      <td>Caicó</td>\n",
              "      <td>944</td>\n",
              "      <td>10.00</td>\n",
              "      <td>231</td>\n",
              "      <td>B1</td>\n",
              "      <td>UFV</td>\n",
              "      <td>Geração na Própria UC</td>\n",
              "      <td>Residencial</td>\n",
              "      <td>RN</td>\n",
              "      <td>27/09/2019</td>\n",
              "      <td>COMPANHIA ENERGÉTICA DO RIO GRANDE DO NORTE CO...</td>\n",
              "    </tr>\n",
              "    <tr>\n",
              "      <th>950</th>\n",
              "      <td>Lagoa de Velhos</td>\n",
              "      <td>951</td>\n",
              "      <td>7.50</td>\n",
              "      <td>231</td>\n",
              "      <td>B3</td>\n",
              "      <td>UFV</td>\n",
              "      <td>Geração na Própria UC</td>\n",
              "      <td>Comercial</td>\n",
              "      <td>RN</td>\n",
              "      <td>20/12/2019</td>\n",
              "      <td>COMPANHIA ENERGÉTICA DO RIO GRANDE DO NORTE CO...</td>\n",
              "    </tr>\n",
              "    <tr>\n",
              "      <th>952</th>\n",
              "      <td>Caicó</td>\n",
              "      <td>953</td>\n",
              "      <td>7.37</td>\n",
              "      <td>231</td>\n",
              "      <td>B1</td>\n",
              "      <td>UFV</td>\n",
              "      <td>Geração na Própria UC</td>\n",
              "      <td>Residencial</td>\n",
              "      <td>RN</td>\n",
              "      <td>06/09/2019</td>\n",
              "      <td>COMPANHIA ENERGÉTICA DO RIO GRANDE DO NORTE CO...</td>\n",
              "    </tr>\n",
              "    <tr>\n",
              "      <th>2113</th>\n",
              "      <td>Extremoz</td>\n",
              "      <td>2114</td>\n",
              "      <td>4.00</td>\n",
              "      <td>231</td>\n",
              "      <td>B1</td>\n",
              "      <td>UFV</td>\n",
              "      <td>Geração na Própria UC</td>\n",
              "      <td>Residencial</td>\n",
              "      <td>RN</td>\n",
              "      <td>25/09/2019</td>\n",
              "      <td>COMPANHIA ENERGÉTICA DO RIO GRANDE DO NORTE CO...</td>\n",
              "    </tr>\n",
              "    <tr>\n",
              "      <th>2120</th>\n",
              "      <td>Mossoró</td>\n",
              "      <td>2121</td>\n",
              "      <td>27.60</td>\n",
              "      <td>231</td>\n",
              "      <td>B1</td>\n",
              "      <td>UFV</td>\n",
              "      <td>Geração na Própria UC</td>\n",
              "      <td>Residencial</td>\n",
              "      <td>RN</td>\n",
              "      <td>12/12/2018</td>\n",
              "      <td>COMPANHIA ENERGÉTICA DO RIO GRANDE DO NORTE CO...</td>\n",
              "    </tr>\n",
              "    <tr>\n",
              "      <th>2129</th>\n",
              "      <td>Natal</td>\n",
              "      <td>2130</td>\n",
              "      <td>3.00</td>\n",
              "      <td>231</td>\n",
              "      <td>B1</td>\n",
              "      <td>UFV</td>\n",
              "      <td>Autoconsumo Remoto</td>\n",
              "      <td>Residencial</td>\n",
              "      <td>RN</td>\n",
              "      <td>08/06/2019</td>\n",
              "      <td>COMPANHIA ENERGÉTICA DO RIO GRANDE DO NORTE CO...</td>\n",
              "    </tr>\n",
              "    <tr>\n",
              "      <th>2133</th>\n",
              "      <td>Mossoró</td>\n",
              "      <td>2134</td>\n",
              "      <td>19.80</td>\n",
              "      <td>231</td>\n",
              "      <td>B1</td>\n",
              "      <td>UFV</td>\n",
              "      <td>Geração na Própria UC</td>\n",
              "      <td>Residencial</td>\n",
              "      <td>RN</td>\n",
              "      <td>19/09/2019</td>\n",
              "      <td>COMPANHIA ENERGÉTICA DO RIO GRANDE DO NORTE CO...</td>\n",
              "    </tr>\n",
              "    <tr>\n",
              "      <th>2138</th>\n",
              "      <td>Ipanguaçu</td>\n",
              "      <td>2139</td>\n",
              "      <td>3.96</td>\n",
              "      <td>231</td>\n",
              "      <td>B3</td>\n",
              "      <td>UFV</td>\n",
              "      <td>Geração na Própria UC</td>\n",
              "      <td>Comercial</td>\n",
              "      <td>RN</td>\n",
              "      <td>28/12/2018</td>\n",
              "      <td>COMPANHIA ENERGÉTICA DO RIO GRANDE DO NORTE CO...</td>\n",
              "    </tr>\n",
              "    <tr>\n",
              "      <th>2143</th>\n",
              "      <td>Parnamirim</td>\n",
              "      <td>2144</td>\n",
              "      <td>3.00</td>\n",
              "      <td>231</td>\n",
              "      <td>B1</td>\n",
              "      <td>UFV</td>\n",
              "      <td>Geração na Própria UC</td>\n",
              "      <td>Residencial</td>\n",
              "      <td>RN</td>\n",
              "      <td>30/09/2015</td>\n",
              "      <td>COMPANHIA ENERGÉTICA DO RIO GRANDE DO NORTE CO...</td>\n",
              "    </tr>\n",
              "    <tr>\n",
              "      <th>2165</th>\n",
              "      <td>Caicó</td>\n",
              "      <td>2166</td>\n",
              "      <td>5.00</td>\n",
              "      <td>231</td>\n",
              "      <td>B1</td>\n",
              "      <td>UFV</td>\n",
              "      <td>Geração na Própria UC</td>\n",
              "      <td>Residencial</td>\n",
              "      <td>RN</td>\n",
              "      <td>08/01/2019</td>\n",
              "      <td>COMPANHIA ENERGÉTICA DO RIO GRANDE DO NORTE CO...</td>\n",
              "    </tr>\n",
              "    <tr>\n",
              "      <th>2166</th>\n",
              "      <td>Natal</td>\n",
              "      <td>2167</td>\n",
              "      <td>8.20</td>\n",
              "      <td>231</td>\n",
              "      <td>B3</td>\n",
              "      <td>UFV</td>\n",
              "      <td>Geração na Própria UC</td>\n",
              "      <td>Comercial</td>\n",
              "      <td>RN</td>\n",
              "      <td>09/09/2019</td>\n",
              "      <td>COMPANHIA ENERGÉTICA DO RIO GRANDE DO NORTE CO...</td>\n",
              "    </tr>\n",
              "    <tr>\n",
              "      <th>2169</th>\n",
              "      <td>Caicó</td>\n",
              "      <td>2170</td>\n",
              "      <td>4.29</td>\n",
              "      <td>231</td>\n",
              "      <td>B1</td>\n",
              "      <td>UFV</td>\n",
              "      <td>Geração na Própria UC</td>\n",
              "      <td>Residencial</td>\n",
              "      <td>RN</td>\n",
              "      <td>14/01/2019</td>\n",
              "      <td>COMPANHIA ENERGÉTICA DO RIO GRANDE DO NORTE CO...</td>\n",
              "    </tr>\n",
              "    <tr>\n",
              "      <th>2179</th>\n",
              "      <td>Natal</td>\n",
              "      <td>2180</td>\n",
              "      <td>3.97</td>\n",
              "      <td>231</td>\n",
              "      <td>B1</td>\n",
              "      <td>UFV</td>\n",
              "      <td>Geração na Própria UC</td>\n",
              "      <td>Residencial</td>\n",
              "      <td>RN</td>\n",
              "      <td>28/11/2018</td>\n",
              "      <td>COMPANHIA ENERGÉTICA DO RIO GRANDE DO NORTE CO...</td>\n",
              "    </tr>\n",
              "  </tbody>\n",
              "</table>\n",
              "</div>"
            ],
            "text/plain": [
              "         nomMunicipio  ...                                   nomDistribuidora\n",
              "865      Tibau do Sul  ...  COMPANHIA ENERGÉTICA DO RIO GRANDE DO NORTE CO...\n",
              "867             Natal  ...  COMPANHIA ENERGÉTICA DO RIO GRANDE DO NORTE CO...\n",
              "869           Mossoró  ...  COMPANHIA ENERGÉTICA DO RIO GRANDE DO NORTE CO...\n",
              "932             Natal  ...  COMPANHIA ENERGÉTICA DO RIO GRANDE DO NORTE CO...\n",
              "933             Natal  ...  COMPANHIA ENERGÉTICA DO RIO GRANDE DO NORTE CO...\n",
              "935        Parnamirim  ...  COMPANHIA ENERGÉTICA DO RIO GRANDE DO NORTE CO...\n",
              "940             Natal  ...  COMPANHIA ENERGÉTICA DO RIO GRANDE DO NORTE CO...\n",
              "943             Caicó  ...  COMPANHIA ENERGÉTICA DO RIO GRANDE DO NORTE CO...\n",
              "950   Lagoa de Velhos  ...  COMPANHIA ENERGÉTICA DO RIO GRANDE DO NORTE CO...\n",
              "952             Caicó  ...  COMPANHIA ENERGÉTICA DO RIO GRANDE DO NORTE CO...\n",
              "2113         Extremoz  ...  COMPANHIA ENERGÉTICA DO RIO GRANDE DO NORTE CO...\n",
              "2120          Mossoró  ...  COMPANHIA ENERGÉTICA DO RIO GRANDE DO NORTE CO...\n",
              "2129            Natal  ...  COMPANHIA ENERGÉTICA DO RIO GRANDE DO NORTE CO...\n",
              "2133          Mossoró  ...  COMPANHIA ENERGÉTICA DO RIO GRANDE DO NORTE CO...\n",
              "2138        Ipanguaçu  ...  COMPANHIA ENERGÉTICA DO RIO GRANDE DO NORTE CO...\n",
              "2143       Parnamirim  ...  COMPANHIA ENERGÉTICA DO RIO GRANDE DO NORTE CO...\n",
              "2165            Caicó  ...  COMPANHIA ENERGÉTICA DO RIO GRANDE DO NORTE CO...\n",
              "2166            Natal  ...  COMPANHIA ENERGÉTICA DO RIO GRANDE DO NORTE CO...\n",
              "2169            Caicó  ...  COMPANHIA ENERGÉTICA DO RIO GRANDE DO NORTE CO...\n",
              "2179            Natal  ...  COMPANHIA ENERGÉTICA DO RIO GRANDE DO NORTE CO...\n",
              "\n",
              "[20 rows x 11 columns]"
            ]
          },
          "metadata": {
            "tags": []
          },
          "execution_count": 58
        }
      ]
    },
    {
      "cell_type": "markdown",
      "metadata": {
        "id": "BcV3g65SUiWe"
      },
      "source": [
        "> Quantidade de municípios do RN com empreendimentos instalados."
      ]
    },
    {
      "cell_type": "code",
      "metadata": {
        "id": "g4ynQf_CUi37",
        "outputId": "2e54f93b-28eb-40e3-8fbb-af60b35f5f83",
        "colab": {
          "base_uri": "https://localhost:8080/",
          "height": 34
        }
      },
      "source": [
        "coluna_municipio= df_geracao_distribuida_RN['nomMunicipio']\n",
        "coluna_municipio.value_counts().size"
      ],
      "execution_count": 59,
      "outputs": [
        {
          "output_type": "execute_result",
          "data": {
            "text/plain": [
              "148"
            ]
          },
          "metadata": {
            "tags": []
          },
          "execution_count": 59
        }
      ]
    },
    {
      "cell_type": "markdown",
      "metadata": {
        "id": "K9yr1jgSCkh-"
      },
      "source": [
        "> Relação dos municípios do RN e suas quantidades de empreendimentos instalados."
      ]
    },
    {
      "cell_type": "code",
      "metadata": {
        "id": "yJoHU9TQkTUI",
        "outputId": "997beb1e-d39a-4297-b724-a6488e622e33",
        "colab": {
          "base_uri": "https://localhost:8080/",
          "height": 221
        }
      },
      "source": [
        "# contando as quantidades de empreendimentos por município\n",
        "coluna_municipio.value_counts()"
      ],
      "execution_count": 60,
      "outputs": [
        {
          "output_type": "execute_result",
          "data": {
            "text/plain": [
              "Natal                      1281\n",
              "Mossoró                    1051\n",
              "Parnamirim                  810\n",
              "Caicó                       247\n",
              "Pau dos Ferros              105\n",
              "                           ... \n",
              "São Rafael                    1\n",
              "Várzea                        1\n",
              "Caiçara do Rio do Vento       1\n",
              "Riacho de Santana             1\n",
              "Jardim de Angicos             1\n",
              "Name: nomMunicipio, Length: 148, dtype: int64"
            ]
          },
          "metadata": {
            "tags": []
          },
          "execution_count": 60
        }
      ]
    },
    {
      "cell_type": "markdown",
      "metadata": {
        "id": "LgE3JKM-Oqkn"
      },
      "source": [
        "> Relação das potências instaladas no RN por ano."
      ]
    },
    {
      "cell_type": "code",
      "metadata": {
        "id": "1IGh68rhCU6S",
        "outputId": "0a88ed61-c7fa-4ab1-f4f7-67b357cf8495",
        "colab": {
          "base_uri": "https://localhost:8080/",
          "height": 328
        }
      },
      "source": [
        "# filtrando pelos datas de conexão e potência instalada.\n",
        "potencia_instalada_RN_por_ano= df_geracao_distribuida_RN.filter(['datConexao', 'mdaPotenciaInstaladaKW'])\n",
        "\n",
        "# preenchendo os valores da coluna datConexao com apenas o ano da data completa\n",
        "potencia_instalada_RN_por_ano['datConexao']= [int(re.findall('\\d{2}/\\d{2}/(\\d{4})', data)[0]) for data in potencia_instalada_RN_por_ano['datConexao']]\n",
        "\n",
        "# agrupando a soma total das potências instaladas por ano de instalação ordenando de forma crescente pelo ano.\n",
        "potencia_instalada_RN_por_ano.groupby('datConexao').sum()"
      ],
      "execution_count": 61,
      "outputs": [
        {
          "output_type": "execute_result",
          "data": {
            "text/html": [
              "<div>\n",
              "<style scoped>\n",
              "    .dataframe tbody tr th:only-of-type {\n",
              "        vertical-align: middle;\n",
              "    }\n",
              "\n",
              "    .dataframe tbody tr th {\n",
              "        vertical-align: top;\n",
              "    }\n",
              "\n",
              "    .dataframe thead th {\n",
              "        text-align: right;\n",
              "    }\n",
              "</style>\n",
              "<table border=\"1\" class=\"dataframe\">\n",
              "  <thead>\n",
              "    <tr style=\"text-align: right;\">\n",
              "      <th></th>\n",
              "      <th>mdaPotenciaInstaladaKW</th>\n",
              "    </tr>\n",
              "    <tr>\n",
              "      <th>datConexao</th>\n",
              "      <th></th>\n",
              "    </tr>\n",
              "  </thead>\n",
              "  <tbody>\n",
              "    <tr>\n",
              "      <th>2013</th>\n",
              "      <td>56.40</td>\n",
              "    </tr>\n",
              "    <tr>\n",
              "      <th>2014</th>\n",
              "      <td>254.50</td>\n",
              "    </tr>\n",
              "    <tr>\n",
              "      <th>2015</th>\n",
              "      <td>854.35</td>\n",
              "    </tr>\n",
              "    <tr>\n",
              "      <th>2016</th>\n",
              "      <td>1285.24</td>\n",
              "    </tr>\n",
              "    <tr>\n",
              "      <th>2017</th>\n",
              "      <td>3087.01</td>\n",
              "    </tr>\n",
              "    <tr>\n",
              "      <th>2018</th>\n",
              "      <td>8234.33</td>\n",
              "    </tr>\n",
              "    <tr>\n",
              "      <th>2019</th>\n",
              "      <td>24935.78</td>\n",
              "    </tr>\n",
              "    <tr>\n",
              "      <th>2020</th>\n",
              "      <td>39196.15</td>\n",
              "    </tr>\n",
              "  </tbody>\n",
              "</table>\n",
              "</div>"
            ],
            "text/plain": [
              "            mdaPotenciaInstaladaKW\n",
              "datConexao                        \n",
              "2013                         56.40\n",
              "2014                        254.50\n",
              "2015                        854.35\n",
              "2016                       1285.24\n",
              "2017                       3087.01\n",
              "2018                       8234.33\n",
              "2019                      24935.78\n",
              "2020                      39196.15"
            ]
          },
          "metadata": {
            "tags": []
          },
          "execution_count": 61
        }
      ]
    },
    {
      "cell_type": "code",
      "metadata": {
        "id": "P9QQ-55g9dvQ",
        "outputId": "d7a4ce73-ba33-40dc-f4a6-4bd76369c161",
        "colab": {
          "base_uri": "https://localhost:8080/",
          "height": 441
        }
      },
      "source": [
        "# Gráficos\n",
        "\n",
        "soma_potencia_instalada_RN_por_ano= potencia_instalada_RN_por_ano.groupby('datConexao').sum()\n",
        "anos= [ano for ano in soma_potencia_instalada_RN_por_ano['mdaPotenciaInstaladaKW'].keys()]\n",
        "potencia_instalada_ano= [pot/(10**3) for pot in soma_potencia_instalada_RN_por_ano['mdaPotenciaInstaladaKW']] # potência instalada em MegaWatts\n",
        "\n",
        "#criando uma figure, axes\n",
        "fig2, ax2 = plt.subplots(figsize=(10,6))\n",
        "#criando o gráfico de barras \n",
        "sns.barplot(x=anos, y=potencia_instalada_ano, ax=ax2, palette='YlOrBr')\n",
        "#adicionando título\n",
        "ax2.set_title(\"Potência x Ano\", fontdict={'fontsize':15})\n",
        "#mudando nome e tamanho do label x\n",
        "ax2.set_xlabel('Anos', fontdict={'fontsize':14})\n",
        "#mudando nome e tamanho do label y\n",
        "ax2.set_ylabel('Potência(MW)', fontdict={'fontsize':14})\n",
        "#mudando tamanho dos labels dos ticks\n",
        "ax2.tick_params(labelsize=14)\n",
        "#otimizar espaço da figure\n",
        "fig2.tight_layout();"
      ],
      "execution_count": 62,
      "outputs": [
        {
          "output_type": "display_data",
          "data": {
            "image/png": "[encoded data removed]",
            "text/plain": [
              "<Figure size 720x432 with 1 Axes>"
            ]
          },
          "metadata": {
            "tags": [],
            "needs_background": "light"
          }
        }
      ]
    },
    {
      "cell_type": "markdown",
      "metadata": {
        "id": "Xifh6r7zPFS7"
      },
      "source": [
        "> Relação dos empreendimentos instalados no RN por ano."
      ]
    },
    {
      "cell_type": "code",
      "metadata": {
        "id": "3paTxZbgQw2Y",
        "outputId": "6774c59f-5f2f-41c8-ef52-a039d6afaacc",
        "colab": {
          "base_uri": "https://localhost:8080/",
          "height": 328
        }
      },
      "source": [
        "# filtrando pelos datas de conexão e id do empreendimento.\n",
        "empreendimentos_RN_por_ano= df_geracao_distribuida_RN.filter(['datConexao', 'ideEmpGeracaoDistribuida'])\n",
        "\n",
        "# preenchendo os valores da coluna 'datConexao' com apenas o ano da data completa\n",
        "empreendimentos_RN_por_ano['datConexao']= [int(re.findall('\\d{2}/\\d{2}/(\\d{4})', data)[0]) for data in empreendimentos_RN_por_ano['datConexao']]\n",
        "\n",
        "# agrupando a soma total dos empreendimentos instalados por ano ordenando de forma crescente pelo ano.\n",
        "empreendimentos_RN_por_ano.groupby('datConexao').count().head(50) # mostrando as 50 primeiras linhas"
      ],
      "execution_count": 63,
      "outputs": [
        {
          "output_type": "execute_result",
          "data": {
            "text/html": [
              "<div>\n",
              "<style scoped>\n",
              "    .dataframe tbody tr th:only-of-type {\n",
              "        vertical-align: middle;\n",
              "    }\n",
              "\n",
              "    .dataframe tbody tr th {\n",
              "        vertical-align: top;\n",
              "    }\n",
              "\n",
              "    .dataframe thead th {\n",
              "        text-align: right;\n",
              "    }\n",
              "</style>\n",
              "<table border=\"1\" class=\"dataframe\">\n",
              "  <thead>\n",
              "    <tr style=\"text-align: right;\">\n",
              "      <th></th>\n",
              "      <th>ideEmpGeracaoDistribuida</th>\n",
              "    </tr>\n",
              "    <tr>\n",
              "      <th>datConexao</th>\n",
              "      <th></th>\n",
              "    </tr>\n",
              "  </thead>\n",
              "  <tbody>\n",
              "    <tr>\n",
              "      <th>2013</th>\n",
              "      <td>4</td>\n",
              "    </tr>\n",
              "    <tr>\n",
              "      <th>2014</th>\n",
              "      <td>15</td>\n",
              "    </tr>\n",
              "    <tr>\n",
              "      <th>2015</th>\n",
              "      <td>67</td>\n",
              "    </tr>\n",
              "    <tr>\n",
              "      <th>2016</th>\n",
              "      <td>99</td>\n",
              "    </tr>\n",
              "    <tr>\n",
              "      <th>2017</th>\n",
              "      <td>185</td>\n",
              "    </tr>\n",
              "    <tr>\n",
              "      <th>2018</th>\n",
              "      <td>533</td>\n",
              "    </tr>\n",
              "    <tr>\n",
              "      <th>2019</th>\n",
              "      <td>1683</td>\n",
              "    </tr>\n",
              "    <tr>\n",
              "      <th>2020</th>\n",
              "      <td>2597</td>\n",
              "    </tr>\n",
              "  </tbody>\n",
              "</table>\n",
              "</div>"
            ],
            "text/plain": [
              "            ideEmpGeracaoDistribuida\n",
              "datConexao                          \n",
              "2013                               4\n",
              "2014                              15\n",
              "2015                              67\n",
              "2016                              99\n",
              "2017                             185\n",
              "2018                             533\n",
              "2019                            1683\n",
              "2020                            2597"
            ]
          },
          "metadata": {
            "tags": []
          },
          "execution_count": 63
        }
      ]
    },
    {
      "cell_type": "code",
      "metadata": {
        "id": "JRnnlNFL-q_F",
        "outputId": "0e1bddaf-8ec7-49c0-8ae0-0ed3cc7f0fa5",
        "colab": {
          "base_uri": "https://localhost:8080/",
          "height": 441
        }
      },
      "source": [
        "# Gráficos\n",
        "\n",
        "soma_empreendimentos_instalados_RN_por_ano= empreendimentos_RN_por_ano.groupby('datConexao').count()\n",
        "anos= [ano for ano in soma_empreendimentos_instalados_RN_por_ano['ideEmpGeracaoDistribuida'].keys()]\n",
        "empreendimentos_instalados= soma_empreendimentos_instalados_RN_por_ano['ideEmpGeracaoDistribuida']\n",
        "\n",
        "#criando uma figure, axes\n",
        "fig3, ax3 = plt.subplots(figsize=(10,6))\n",
        "#criando o gráfico de barras \n",
        "sns.barplot(x=anos, y=empreendimentos_instalados, ax=ax3, palette='PuBu')\n",
        "#adicionando título\n",
        "ax3.set_title(\"Quantidade de Empreendimentos x Ano\", fontdict={'fontsize':15})\n",
        "#mudando nome e tamanho do label x\n",
        "ax3.set_xlabel('Anos', fontdict={'fontsize':14})\n",
        "#mudando nome e tamanho do label y\n",
        "ax3.set_ylabel('Quantidade', fontdict={'fontsize':14})\n",
        "#mudando tamanho dos labels dos ticks\n",
        "ax3.tick_params(labelsize=14)\n",
        "#otimizar espaço da figure\n",
        "fig3.tight_layout();"
      ],
      "execution_count": 64,
      "outputs": [
        {
          "output_type": "display_data",
          "data": {
            "image/png": "[encoded data removed]",
            "text/plain": [
              "<Figure size 720x432 with 1 Axes>"
            ]
          },
          "metadata": {
            "tags": [],
            "needs_background": "light"
          }
        }
      ]
    },
    {
      "cell_type": "markdown",
      "metadata": {
        "id": "h8yB3K2uLWi6"
      },
      "source": [
        "### Conclusão\n",
        "\n",
        "> Com base nos resultados verificou-se um grande aumento tanto no Brasil como no RN após a entrada em vigor da REN 687/2015, principalmente nos últimos dois anos. Isso mostra que o Brasil vem adotando medidas para contribuir com o objetivo 7 da Agenda 2030 para o Desenvolvimento Sustentável da ONU."
      ]
    },
    {
      "cell_type": "markdown",
      "metadata": {
        "id": "RGUDUrMLMk2S"
      },
      "source": [
        "### Referências\n",
        "\n",
        "> http://www.agenda2030.org.br/  \n",
        "> https://dados.gov.br/organization/agencia-nacional-de-energia-eletrica  \n",
        "> https://www.aneel.gov.br/  \n",
        "> https://pandas.pydata.org/  \n",
        "> https://matplotlib.org/  \n",
        "> https://seaborn.pydata.org/  \n",
        "> https://www.kaggle.com/dennisferreira/empreendimentos-de-geracao-distribuida-de-energia"
      ]
    }
  ]
}